{
 "cells": [
  {
   "cell_type": "code",
   "execution_count": 1,
   "id": "49e77070-bd03-410f-87a1-8a61c09de907",
   "metadata": {},
   "outputs": [
    {
     "name": "stderr",
     "output_type": "stream",
     "text": [
      "2024-11-26 12:40:39.687542: E tensorflow/compiler/xla/stream_executor/cuda/cuda_dnn.cc:9360] Unable to register cuDNN factory: Attempting to register factory for plugin cuDNN when one has already been registered\n",
      "2024-11-26 12:40:39.687592: E tensorflow/compiler/xla/stream_executor/cuda/cuda_fft.cc:609] Unable to register cuFFT factory: Attempting to register factory for plugin cuFFT when one has already been registered\n",
      "2024-11-26 12:40:39.687638: E tensorflow/compiler/xla/stream_executor/cuda/cuda_blas.cc:1537] Unable to register cuBLAS factory: Attempting to register factory for plugin cuBLAS when one has already been registered\n",
      "2024-11-26 12:40:39.699489: I tensorflow/core/platform/cpu_feature_guard.cc:183] This TensorFlow binary is optimized to use available CPU instructions in performance-critical operations.\n",
      "To enable the following instructions: SSE3 SSE4.1 SSE4.2 AVX, in other operations, rebuild TensorFlow with the appropriate compiler flags.\n"
     ]
    }
   ],
   "source": [
    "import tensorflow as tf\n",
    "from tensorflow.keras.preprocessing.image import ImageDataGenerator\n",
    "from sklearn.metrics import confusion_matrix, classification_report\n",
    "import numpy as np\n",
    "import matplotlib.pyplot as plt\n",
    "import os"
   ]
  },
  {
   "cell_type": "code",
   "execution_count": 2,
   "id": "e28a1e6f-b32f-47dc-8925-f29a19ec72cd",
   "metadata": {},
   "outputs": [],
   "source": [
    "# Parameters\n",
    "data_dir = '/home/sivaranjin/lost+found/Speech/Urban Scene/Database'  # Replace with your data directory\n",
    "batch_size = 16\n",
    "img_height, img_width = 224, 224\n",
    "num_classes = 4"
   ]
  },
  {
   "cell_type": "code",
   "execution_count": 3,
   "id": "d4262e9d-659c-4eab-8ce0-5ca4bb6864b0",
   "metadata": {},
   "outputs": [],
   "source": [
    "val_datagen = ImageDataGenerator(rescale=1.0/255)"
   ]
  },
  {
   "cell_type": "code",
   "execution_count": 4,
   "id": "c140a203-abf3-4f95-b8ba-6ac512a0ad09",
   "metadata": {},
   "outputs": [
    {
     "name": "stdout",
     "output_type": "stream",
     "text": [
      "Found 3288 images belonging to 4 classes.\n"
     ]
    }
   ],
   "source": [
    "# Load the data from directory\n",
    "val_generator = val_datagen.flow_from_directory(\n",
    "    f'{data_dir}/test',\n",
    "    target_size=(img_height, img_width),\n",
    "    batch_size=batch_size,\n",
    "    class_mode='categorical',\n",
    "    shuffle=False\n",
    ")"
   ]
  },
  {
   "cell_type": "code",
   "execution_count": 5,
   "id": "9c6f7902-4ca3-4bef-a8de-774c277de9db",
   "metadata": {},
   "outputs": [],
   "source": [
    "import tensorflow as tf\n",
    "\n",
    "class LayerScale(tf.keras.layers.Layer):\n",
    "    def __init__(self, init_values=1e-6, projection_dim=None, **kwargs):\n",
    "        super().__init__(**kwargs)\n",
    "        self.init_values = init_values\n",
    "        self.projection_dim = projection_dim  # Store projection_dim, even if unused\n",
    "\n",
    "    def build(self, input_shape):\n",
    "        self.scale = self.add_weight(\n",
    "            shape=(input_shape[-1],),\n",
    "            initializer=tf.keras.initializers.Constant(self.init_values),\n",
    "            trainable=True,\n",
    "        )\n",
    "\n",
    "    def call(self, inputs):\n",
    "        return inputs * self.scale\n"
   ]
  },
  {
   "cell_type": "code",
   "execution_count": 6,
   "id": "36d4f873-3eb4-4085-8bb8-d1036d8831f3",
   "metadata": {},
   "outputs": [],
   "source": [
    "# class CustomScaleLayer(tf.keras.layers.Layer):\n",
    "#     def __init__(self, scale=1.0, **kwargs):\n",
    "#         super().__init__(**kwargs)\n",
    "#         self.scale = scale\n",
    "\n",
    "#     def build(self, input_shape):\n",
    "#         # Extract the channel dimension\n",
    "#         channels = input_shape[-1]\n",
    "        \n",
    "#         # If channels is not an integer, resolve it dynamically\n",
    "#         if isinstance(channels, tf.TensorShape):\n",
    "#             channels = channels.as_list()[-1]\n",
    "        \n",
    "#         if not isinstance(channels, int):\n",
    "#             raise ValueError(f\"Cannot resolve channel dimension from input_shape: {input_shape}\")\n",
    "        \n",
    "#         # Add a trainable weight for the scale\n",
    "#         self.trainable_scale = self.add_weight(\n",
    "#             shape=(channels,),\n",
    "#             initializer=tf.keras.initializers.Constant(self.scale),\n",
    "#             trainable=True,\n",
    "#         )\n",
    "\n",
    "#     def call(self, inputs):\n",
    "#         return inputs * self.trainable_scale\n"
   ]
  },
  {
   "cell_type": "code",
   "execution_count": 7,
   "id": "1d10bd06-08e0-471c-a98b-e37b800ca706",
   "metadata": {},
   "outputs": [],
   "source": [
    "# model = tf.keras.models.load_model(\n",
    "#     \"/home/sivaranjin/lost+found/Speech/Urban Scene/InceptionResNetV2_initial.h5\",\n",
    "#     custom_objects={\n",
    "#         'LayerScale': LayerScale,\n",
    "#         'CustomScaleLayer': CustomScaleLayer\n",
    "#     }\n",
    "# )\n"
   ]
  },
  {
   "cell_type": "code",
   "execution_count": 56,
   "id": "2f8960c3-0708-4f12-aacc-5af1bdfed5a6",
   "metadata": {},
   "outputs": [],
   "source": [
    "model = tf.keras.models.load_model(\n",
    "    \"/home/sivaranjin/lost+found/Speech/Urban Scene/Models/EfficientNetB7_initial.h5\",\n",
    "    custom_objects={'LayerScale': LayerScale}\n",
    ")"
   ]
  },
  {
   "cell_type": "code",
   "execution_count": null,
   "id": "54d86419-d77d-4bb8-9867-ad7ad93c1390",
   "metadata": {},
   "outputs": [],
   "source": [
    "# IMPORTANT\n",
    "# run this cell minimum 2 times to get approximate correct-timing results.\n",
    "\n",
    "t = TicToc()\n",
    "t.tic()\n",
    "y_pred = np.argmax(model.predict(val_generator), axis=1)\n",
    "t.toc('\\nThis testing took')\n",
    "total_time = t.tocvalue('This testing took')\n",
    "total_seg = y_pred.shape[0]\n",
    "\n",
    "print(\"Average testing time is {} milliseconds\\n\".format(total_time*1000/total_seg))"
   ]
  },
  {
   "cell_type": "code",
   "execution_count": null,
   "id": "adc1603d-f83b-45e4-a29b-e76c6ed9afa8",
   "metadata": {},
   "outputs": [],
   "source": [
    "# # Load the model\n",
    "# # import tensorflow as tf\n",
    "# # from tensorflow.keras.layers import Dense, GlobalAveragePooling2D\n",
    "# model = tf.keras.models.load_model(\"/home/sivaranjin/lost+found/Speech/Urban Scene/custom_model6.h5\")\n",
    "# model.summary()"
   ]
  },
  {
   "cell_type": "code",
   "execution_count": 22,
   "id": "d15a3988-da93-49f2-b8c7-110464453416",
   "metadata": {},
   "outputs": [
    {
     "name": "stdout",
     "output_type": "stream",
     "text": [
      "206/206 [==============================] - 21s 99ms/step\n"
     ]
    },
    {
     "data": {
      "image/png": "[encoded data removed]",
      "text/plain": [
       "<Figure size 640x480 with 2 Axes>"
      ]
     },
     "metadata": {},
     "output_type": "display_data"
    }
   ],
   "source": [
    "from sklearn.metrics import confusion_matrix, ConfusionMatrixDisplay\n",
    "# Confusion Matrix\n",
    "y_true = val_generator.classes\n",
    "y_pred = np.argmax(model.predict(val_generator), axis=1)\n",
    "\n",
    "cm = confusion_matrix(y_true, y_pred)\n",
    "disp = ConfusionMatrixDisplay(confusion_matrix=cm, display_labels=val_generator.class_indices.keys())\n",
    "disp.plot(cmap='Blues')\n",
    "plt.show()"
   ]
  },
  {
   "cell_type": "code",
   "execution_count": 29,
   "id": "39d7dea3-cc01-4ddf-b273-5c85106ecfd7",
   "metadata": {},
   "outputs": [
    {
     "name": "stdout",
     "output_type": "stream",
     "text": [
      "206/206 [==============================] - 19s 87ms/step - loss: 0.0184 - accuracy: 0.9954\n",
      "Validation Accuracy: 99.54%\n"
     ]
    }
   ],
   "source": [
    "# Evaluate the model on validation data\n",
    "loss, accuracy = model.evaluate(val_generator)\n",
    "print(f\"Validation Accuracy: {accuracy*100:.2f}%\")\n",
    "# print(f\"Validation Precision: {precision:.2f}\")\n",
    "# print(f\"Validation Recall: {recall:.2f}\")"
   ]
  },
  {
   "cell_type": "code",
   "execution_count": 10,
   "id": "ab4704a1-7b30-490d-89cc-8b530710c9f7",
   "metadata": {},
   "outputs": [],
   "source": [
    "from sklearn.metrics import accuracy_score\n",
    "from sklearn import metrics\n",
    "from pytictoc import TicToc"
   ]
  },
  {
   "cell_type": "code",
   "execution_count": 21,
   "id": "7eca92fb-ae9c-4a5f-b415-ca004ee2912d",
   "metadata": {},
   "outputs": [
    {
     "name": "stdout",
     "output_type": "stream",
     "text": [
      "206/206 [==============================] - 21s 89ms/step\n",
      "\n",
      "This testing took 20.924045 seconds.\n",
      "Average testing time is 6.3637968128968545 milliseconds\n",
      "\n"
     ]
    }
   ],
   "source": [
    "# IMPORTANT\n",
    "# run this cell minimum 2 times to get approximate correct-timing results.\n",
    "\n",
    "t = TicToc()\n",
    "t.tic()\n",
    "y_pred = np.argmax(model.predict(val_generator), axis=1)\n",
    "t.toc('\\nThis testing took')\n",
    "total_time = t.tocvalue('This testing took')\n",
    "total_seg = y_pred.shape[0]\n",
    "\n",
    "print(\"Average testing time is {} milliseconds\\n\".format(total_time*1000/total_seg))"
   ]
  },
  {
   "cell_type": "code",
   "execution_count": null,
   "id": "43b311ee-6ea8-42f6-92a4-6d2ccabc9844",
   "metadata": {},
   "outputs": [],
   "source": []
  },
  {
   "cell_type": "code",
   "execution_count": null,
   "id": "9523e629-b20a-4066-8bb9-f3f76390f883",
   "metadata": {},
   "outputs": [],
   "source": []
  }
 ],
 "metadata": {
  "kernelspec": {
   "display_name": "Python 3 (ipykernel)",
   "language": "python",
   "name": "python3"
  },
  "language_info": {
   "codemirror_mode": {
    "name": "ipython",
    "version": 3
   },
   "file_extension": ".py",
   "mimetype": "text/x-python",
   "name": "python",
   "nbconvert_exporter": "python",
   "pygments_lexer": "ipython3",
   "version": "3.10.12"
  }
 },
 "nbformat": 4,
 "nbformat_minor": 5
}
